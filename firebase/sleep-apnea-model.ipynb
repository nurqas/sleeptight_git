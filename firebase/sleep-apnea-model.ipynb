{
 "cells": [
  {
   "cell_type": "markdown",
   "id": "8c4b9b8e",
   "metadata": {
    "papermill": {
     "duration": 0.019288,
     "end_time": "2023-07-08T15:03:19.566028",
     "exception": false,
     "start_time": "2023-07-08T15:03:19.546740",
     "status": "completed"
    },
    "tags": []
   },
   "source": [
    "# Importing"
   ]
  },
  {
   "cell_type": "code",
   "execution_count": 344,
   "id": "56dad314",
   "metadata": {
    "execution": {
     "iopub.execute_input": "2023-07-08T15:03:19.606757Z",
     "iopub.status.busy": "2023-07-08T15:03:19.606170Z",
     "iopub.status.idle": "2023-07-08T15:03:20.831593Z",
     "shell.execute_reply": "2023-07-08T15:03:20.830195Z"
    },
    "papermill": {
     "duration": 1.249455,
     "end_time": "2023-07-08T15:03:20.834653",
     "exception": false,
     "start_time": "2023-07-08T15:03:19.585198",
     "status": "completed"
    },
    "tags": []
   },
   "outputs": [],
   "source": [
    "# Importing\n",
    "    \n",
    "import numpy as np\n",
    "import pandas as pd\n",
    "import os\n",
    "import plotly.graph_objs as go\n",
    "import plotly.express as px\n",
    "import warnings\n",
    "import pickle\n",
    "warnings.filterwarnings('ignore')"
   ]
  },
  {
   "cell_type": "markdown",
   "id": "7845500a",
   "metadata": {
    "papermill": {
     "duration": 0.018783,
     "end_time": "2023-07-08T15:03:20.930035",
     "exception": false,
     "start_time": "2023-07-08T15:03:20.911252",
     "status": "completed"
    },
    "tags": []
   },
   "source": [
    "# Load the dataset"
   ]
  },
  {
   "cell_type": "code",
   "execution_count": 345,
   "id": "f41e1a56",
   "metadata": {
    "execution": {
     "iopub.execute_input": "2023-07-08T15:03:20.970580Z",
     "iopub.status.busy": "2023-07-08T15:03:20.970093Z",
     "iopub.status.idle": "2023-07-08T15:03:21.000189Z",
     "shell.execute_reply": "2023-07-08T15:03:20.998750Z"
    },
    "papermill": {
     "duration": 0.053476,
     "end_time": "2023-07-08T15:03:21.003590",
     "exception": false,
     "start_time": "2023-07-08T15:03:20.950114",
     "status": "completed"
    },
    "tags": []
   },
   "outputs": [],
   "source": [
    "\n",
    "df = pd.read_csv('Sleep_health_and_lifestyle_dataset.csv')"
   ]
  },
  {
   "cell_type": "markdown",
   "id": "759bb504",
   "metadata": {
    "papermill": {
     "duration": 0.020215,
     "end_time": "2023-07-08T15:03:21.526200",
     "exception": false,
     "start_time": "2023-07-08T15:03:21.505985",
     "status": "completed"
    },
    "tags": []
   },
   "source": [
    "# Preprocessing - Divide 'Blood Pressure' to highest and lowest"
   ]
  },
  {
   "cell_type": "code",
   "execution_count": 346,
   "id": "5b7143e7",
   "metadata": {
    "execution": {
     "iopub.execute_input": "2023-07-08T15:03:21.569199Z",
     "iopub.status.busy": "2023-07-08T15:03:21.568758Z",
     "iopub.status.idle": "2023-07-08T15:03:21.576059Z",
     "shell.execute_reply": "2023-07-08T15:03:21.575132Z"
    },
    "papermill": {
     "duration": 0.031702,
     "end_time": "2023-07-08T15:03:21.578919",
     "exception": false,
     "start_time": "2023-07-08T15:03:21.547217",
     "status": "completed"
    },
    "tags": []
   },
   "outputs": [
    {
     "data": {
      "text/plain": [
       "array(['126/83', '125/80', '140/90', '120/80', '132/87', '130/86',\n",
       "       '117/76', '118/76', '128/85', '131/86', '128/84', '115/75',\n",
       "       '135/88', '129/84', '130/85', '115/78', '119/77', '121/79',\n",
       "       '125/82', '122/80', '135/90', '140/95', '139/91', '118/75'],\n",
       "      dtype=object)"
      ]
     },
     "execution_count": 346,
     "metadata": {},
     "output_type": "execute_result"
    }
   ],
   "source": [
    "df['Blood Pressure'].unique()"
   ]
  },
  {
   "cell_type": "code",
   "execution_count": 347,
   "id": "91bf700b",
   "metadata": {
    "execution": {
     "iopub.execute_input": "2023-07-08T15:03:21.620868Z",
     "iopub.status.busy": "2023-07-08T15:03:21.619527Z",
     "iopub.status.idle": "2023-07-08T15:03:21.635137Z",
     "shell.execute_reply": "2023-07-08T15:03:21.633674Z"
    },
    "papermill": {
     "duration": 0.040341,
     "end_time": "2023-07-08T15:03:21.638345",
     "exception": false,
     "start_time": "2023-07-08T15:03:21.598004",
     "status": "completed"
    },
    "tags": []
   },
   "outputs": [],
   "source": [
    "df1 = pd.concat([df, df['Blood Pressure'].str.split('/', expand=True)], axis=1).drop('Blood Pressure', axis=1)"
   ]
  },
  {
   "cell_type": "code",
   "execution_count": 348,
   "id": "bc2bf4eb",
   "metadata": {
    "execution": {
     "iopub.execute_input": "2023-07-08T15:03:21.681881Z",
     "iopub.status.busy": "2023-07-08T15:03:21.681459Z",
     "iopub.status.idle": "2023-07-08T15:03:21.708224Z",
     "shell.execute_reply": "2023-07-08T15:03:21.706571Z"
    },
    "papermill": {
     "duration": 0.051758,
     "end_time": "2023-07-08T15:03:21.710936",
     "exception": false,
     "start_time": "2023-07-08T15:03:21.659178",
     "status": "completed"
    },
    "tags": []
   },
   "outputs": [
    {
     "data": {
      "text/html": [
       "<div>\n",
       "<style scoped>\n",
       "    .dataframe tbody tr th:only-of-type {\n",
       "        vertical-align: middle;\n",
       "    }\n",
       "\n",
       "    .dataframe tbody tr th {\n",
       "        vertical-align: top;\n",
       "    }\n",
       "\n",
       "    .dataframe thead th {\n",
       "        text-align: right;\n",
       "    }\n",
       "</style>\n",
       "<table border=\"1\" class=\"dataframe\">\n",
       "  <thead>\n",
       "    <tr style=\"text-align: right;\">\n",
       "      <th></th>\n",
       "      <th>Person ID</th>\n",
       "      <th>Gender</th>\n",
       "      <th>Age</th>\n",
       "      <th>Occupation</th>\n",
       "      <th>Sleep Duration</th>\n",
       "      <th>Quality of Sleep</th>\n",
       "      <th>Physical Activity Level</th>\n",
       "      <th>Stress Level</th>\n",
       "      <th>BMI Category</th>\n",
       "      <th>Heart Rate</th>\n",
       "      <th>Daily Steps</th>\n",
       "      <th>Sleep Disorder</th>\n",
       "      <th>0</th>\n",
       "      <th>1</th>\n",
       "    </tr>\n",
       "  </thead>\n",
       "  <tbody>\n",
       "    <tr>\n",
       "      <th>0</th>\n",
       "      <td>1</td>\n",
       "      <td>Male</td>\n",
       "      <td>27</td>\n",
       "      <td>Software Engineer</td>\n",
       "      <td>6.1</td>\n",
       "      <td>6</td>\n",
       "      <td>42</td>\n",
       "      <td>6</td>\n",
       "      <td>Overweight</td>\n",
       "      <td>77</td>\n",
       "      <td>4200</td>\n",
       "      <td>NaN</td>\n",
       "      <td>126</td>\n",
       "      <td>83</td>\n",
       "    </tr>\n",
       "    <tr>\n",
       "      <th>1</th>\n",
       "      <td>2</td>\n",
       "      <td>Male</td>\n",
       "      <td>28</td>\n",
       "      <td>Doctor</td>\n",
       "      <td>6.2</td>\n",
       "      <td>6</td>\n",
       "      <td>60</td>\n",
       "      <td>8</td>\n",
       "      <td>Normal</td>\n",
       "      <td>75</td>\n",
       "      <td>10000</td>\n",
       "      <td>NaN</td>\n",
       "      <td>125</td>\n",
       "      <td>80</td>\n",
       "    </tr>\n",
       "    <tr>\n",
       "      <th>2</th>\n",
       "      <td>3</td>\n",
       "      <td>Male</td>\n",
       "      <td>28</td>\n",
       "      <td>Doctor</td>\n",
       "      <td>6.2</td>\n",
       "      <td>6</td>\n",
       "      <td>60</td>\n",
       "      <td>8</td>\n",
       "      <td>Normal</td>\n",
       "      <td>75</td>\n",
       "      <td>10000</td>\n",
       "      <td>NaN</td>\n",
       "      <td>125</td>\n",
       "      <td>80</td>\n",
       "    </tr>\n",
       "    <tr>\n",
       "      <th>3</th>\n",
       "      <td>4</td>\n",
       "      <td>Male</td>\n",
       "      <td>28</td>\n",
       "      <td>Sales Representative</td>\n",
       "      <td>5.9</td>\n",
       "      <td>4</td>\n",
       "      <td>30</td>\n",
       "      <td>8</td>\n",
       "      <td>Obese</td>\n",
       "      <td>85</td>\n",
       "      <td>3000</td>\n",
       "      <td>Sleep Apnea</td>\n",
       "      <td>140</td>\n",
       "      <td>90</td>\n",
       "    </tr>\n",
       "    <tr>\n",
       "      <th>4</th>\n",
       "      <td>5</td>\n",
       "      <td>Male</td>\n",
       "      <td>28</td>\n",
       "      <td>Sales Representative</td>\n",
       "      <td>5.9</td>\n",
       "      <td>4</td>\n",
       "      <td>30</td>\n",
       "      <td>8</td>\n",
       "      <td>Obese</td>\n",
       "      <td>85</td>\n",
       "      <td>3000</td>\n",
       "      <td>Sleep Apnea</td>\n",
       "      <td>140</td>\n",
       "      <td>90</td>\n",
       "    </tr>\n",
       "  </tbody>\n",
       "</table>\n",
       "</div>"
      ],
      "text/plain": [
       "   Person ID Gender  Age            Occupation  Sleep Duration  \\\n",
       "0          1   Male   27     Software Engineer             6.1   \n",
       "1          2   Male   28                Doctor             6.2   \n",
       "2          3   Male   28                Doctor             6.2   \n",
       "3          4   Male   28  Sales Representative             5.9   \n",
       "4          5   Male   28  Sales Representative             5.9   \n",
       "\n",
       "   Quality of Sleep  Physical Activity Level  Stress Level BMI Category  \\\n",
       "0                 6                       42             6   Overweight   \n",
       "1                 6                       60             8       Normal   \n",
       "2                 6                       60             8       Normal   \n",
       "3                 4                       30             8        Obese   \n",
       "4                 4                       30             8        Obese   \n",
       "\n",
       "   Heart Rate  Daily Steps Sleep Disorder    0   1  \n",
       "0          77         4200            NaN  126  83  \n",
       "1          75        10000            NaN  125  80  \n",
       "2          75        10000            NaN  125  80  \n",
       "3          85         3000    Sleep Apnea  140  90  \n",
       "4          85         3000    Sleep Apnea  140  90  "
      ]
     },
     "execution_count": 348,
     "metadata": {},
     "output_type": "execute_result"
    }
   ],
   "source": [
    "df1.head()"
   ]
  },
  {
   "cell_type": "code",
   "execution_count": 349,
   "id": "a3f0f0d8",
   "metadata": {
    "execution": {
     "iopub.execute_input": "2023-07-08T15:03:21.757199Z",
     "iopub.status.busy": "2023-07-08T15:03:21.756186Z",
     "iopub.status.idle": "2023-07-08T15:03:21.764199Z",
     "shell.execute_reply": "2023-07-08T15:03:21.763068Z"
    },
    "papermill": {
     "duration": 0.033672,
     "end_time": "2023-07-08T15:03:21.767223",
     "exception": false,
     "start_time": "2023-07-08T15:03:21.733551",
     "status": "completed"
    },
    "tags": []
   },
   "outputs": [],
   "source": [
    "df1 = df1.rename(columns={0: 'BloodPressure_Upper_Value', 1: 'BloodPressure_Lower_Value'})"
   ]
  },
  {
   "cell_type": "code",
   "execution_count": 350,
   "id": "96917a7e",
   "metadata": {
    "execution": {
     "iopub.execute_input": "2023-07-08T15:03:21.887541Z",
     "iopub.status.busy": "2023-07-08T15:03:21.886795Z",
     "iopub.status.idle": "2023-07-08T15:03:21.894135Z",
     "shell.execute_reply": "2023-07-08T15:03:21.893113Z"
    },
    "papermill": {
     "duration": 0.034622,
     "end_time": "2023-07-08T15:03:21.897450",
     "exception": false,
     "start_time": "2023-07-08T15:03:21.862828",
     "status": "completed"
    },
    "tags": []
   },
   "outputs": [],
   "source": [
    "df1['BloodPressure_Upper_Value'] = df1['BloodPressure_Upper_Value'].astype(float)\n",
    "df1['BloodPressure_Lower_Value'] = df1['BloodPressure_Lower_Value'].astype(float)\n"
   ]
  },
  {
   "cell_type": "markdown",
   "id": "fe79b612",
   "metadata": {
    "papermill": {
     "duration": 0.022069,
     "end_time": "2023-07-08T15:03:22.003532",
     "exception": false,
     "start_time": "2023-07-08T15:03:21.981463",
     "status": "completed"
    },
    "tags": []
   },
   "source": [
    "# Handling Categorical Variables"
   ]
  },
  {
   "cell_type": "code",
   "execution_count": 351,
   "id": "477c881a",
   "metadata": {
    "execution": {
     "iopub.execute_input": "2023-07-08T15:03:22.051612Z",
     "iopub.status.busy": "2023-07-08T15:03:22.050778Z",
     "iopub.status.idle": "2023-07-08T15:03:23.791282Z",
     "shell.execute_reply": "2023-07-08T15:03:23.789370Z"
    },
    "papermill": {
     "duration": 1.767761,
     "end_time": "2023-07-08T15:03:23.794589",
     "exception": false,
     "start_time": "2023-07-08T15:03:22.026828",
     "status": "completed"
    },
    "tags": []
   },
   "outputs": [],
   "source": [
    "#import label encoder\n",
    "from sklearn import preprocessing \n",
    "#make an instance of Label Encoder\n",
    "\n",
    "\n",
    "label_encoder = preprocessing.LabelEncoder()\n",
    "df1['Gender'] = label_encoder.fit_transform(df1['Gender'])\n",
    "df1['Occupation'] = label_encoder.fit_transform(df1['Occupation'])\n",
    "df1['BMI Category'] = label_encoder.fit_transform(df1['BMI Category'])\n",
    "df1['Sleep Disorder'] = label_encoder.fit_transform(df1['Sleep Disorder'])\n",
    "\n"
   ]
  },
  {
   "cell_type": "code",
   "execution_count": 352,
   "id": "14455b57",
   "metadata": {},
   "outputs": [],
   "source": [
    "# # Make an instance of LabelEncoder\n",
    "# label_encoder = preprocessing.LabelEncoder()\n",
    "\n",
    "# # Dictionary to hold the mappings\n",
    "# mappings = {}\n",
    "\n",
    "# # Encode 'Gender' column\n",
    "# df1['Gender'] = label_encoder.fit_transform(df1['Gender'])\n",
    "# mappings['Gender'] = dict(zip(label_encoder.classes_, label_encoder.transform(label_encoder.classes_)))\n",
    "\n",
    "# # Encode 'Occupation' column\n",
    "# df1['Occupation'] = label_encoder.fit_transform(df1['Occupation'])\n",
    "# mappings['Occupation'] = dict(zip(label_encoder.classes_, label_encoder.transform(label_encoder.classes_)))\n",
    "\n",
    "# # Encode 'BMI Category' column\n",
    "# df1['BMI Category'] = label_encoder.fit_transform(df1['BMI Category'])\n",
    "# mappings['BMI Category'] = dict(zip(label_encoder.classes_, label_encoder.transform(label_encoder.classes_)))\n",
    "\n",
    "# # Encode 'Sleep Disorder' column\n",
    "# df1['Sleep Disorder'] = label_encoder.fit_transform(df1['Sleep Disorder'])\n",
    "# mappings['Sleep Disorder'] = dict(zip(label_encoder.classes_, label_encoder.transform(label_encoder.classes_)))\n",
    "\n",
    "# # Display the DataFrame and the mappings\n",
    "# df1.head()\n",
    "# for column, mapping in mappings.items():\n",
    "#     print(f\"{column} mapping: {mapping}\")\n"
   ]
  },
  {
   "cell_type": "code",
   "execution_count": 353,
   "id": "5414f1dd",
   "metadata": {
    "execution": {
     "iopub.execute_input": "2023-07-08T15:03:23.840017Z",
     "iopub.status.busy": "2023-07-08T15:03:23.839602Z",
     "iopub.status.idle": "2023-07-08T15:03:23.861060Z",
     "shell.execute_reply": "2023-07-08T15:03:23.860025Z"
    },
    "papermill": {
     "duration": 0.048144,
     "end_time": "2023-07-08T15:03:23.864085",
     "exception": false,
     "start_time": "2023-07-08T15:03:23.815941",
     "status": "completed"
    },
    "tags": []
   },
   "outputs": [],
   "source": [
    "# Outlier Removal\n",
    "num_col = ['Age', 'Sleep Duration', 'Quality of Sleep', 'Physical Activity Level', 'Stress Level',\n",
    "           'Heart Rate', 'Daily Steps', 'BloodPressure_Upper_Value', 'BloodPressure_Lower_Value']\n",
    "\n",
    "Q1 = df1[num_col].quantile(0.25)\n",
    "Q3 = df1[num_col].quantile(0.75)\n",
    "IQR = Q3 - Q1\n",
    "\n",
    "df1 = df1[~((df1[num_col] < (Q1 - 1.5 * IQR)) | (df1[num_col] > (Q3 + 1.5 * IQR))).any(axis=1)]\n"
   ]
  },
  {
   "cell_type": "code",
   "execution_count": 354,
   "id": "f3a07d0b",
   "metadata": {},
   "outputs": [],
   "source": [
    "\n",
    "# # Dictionary for renaming columns\n",
    "# new_column_names = {'Gender': 'gender', 'Age': 'age', 'Occupation': 'occupation', 'Sleep Duration': 'sleepduration', 'Quality of sleep': 'sleepquality' 'sleepquality', 'Physical Activity Level': 'physicalactivity', 'Stress Level': 'stresslevel', 'BMI Category': 'bmi', 'Heart Rate': 'heartrate', \"Daily Steps\": 'dailysteps', 'BloodPressure_Upper_Value':'bloodpressureuv', 'BloodPressure_Lower_Value': 'bloodpressurelv'}\n",
    "\n",
    "\n",
    "# # Rename columns\n",
    "# df1 = df1.rename(columns=new_column_names)\n",
    "# print(df1)\n"
   ]
  },
  {
   "cell_type": "markdown",
   "id": "16a8f932",
   "metadata": {
    "papermill": {
     "duration": 0.029025,
     "end_time": "2023-07-08T15:03:29.450891",
     "exception": false,
     "start_time": "2023-07-08T15:03:29.421866",
     "status": "completed"
    },
    "tags": []
   },
   "source": [
    "# Machine Learning - Multi-Classification Prediction"
   ]
  },
  {
   "cell_type": "code",
   "execution_count": 355,
   "id": "78538dbf",
   "metadata": {
    "execution": {
     "iopub.execute_input": "2023-07-08T15:03:29.522089Z",
     "iopub.status.busy": "2023-07-08T15:03:29.520248Z",
     "iopub.status.idle": "2023-07-08T15:03:30.312505Z",
     "shell.execute_reply": "2023-07-08T15:03:30.310229Z"
    },
    "papermill": {
     "duration": 0.836963,
     "end_time": "2023-07-08T15:03:30.317255",
     "exception": false,
     "start_time": "2023-07-08T15:03:29.480292",
     "status": "completed"
    },
    "tags": []
   },
   "outputs": [],
   "source": [
    "# Machine Learning - Multi-Classification Prediction\n",
    "from sklearn.model_selection import train_test_split\n",
    "from sklearn.preprocessing import StandardScaler, LabelEncoder\n",
    "from sklearn.pipeline import Pipeline\n",
    "from sklearn.metrics import accuracy_score\n",
    "from sklearn.model_selection import GridSearchCV\n",
    "from sklearn.ensemble import RandomForestClassifier, GradientBoostingClassifier\n",
    "from sklearn.svm import SVC\n",
    "from sklearn.linear_model import LogisticRegression\n",
    "from sklearn.neighbors import KNeighborsClassifier\n",
    "from sklearn.tree import DecisionTreeClassifier\n"
   ]
  },
  {
   "cell_type": "markdown",
   "id": "e31607f5",
   "metadata": {
    "papermill": {
     "duration": 0.02986,
     "end_time": "2023-07-08T15:03:30.373965",
     "exception": false,
     "start_time": "2023-07-08T15:03:30.344105",
     "status": "completed"
    },
    "tags": []
   },
   "source": [
    "# Prepare the data"
   ]
  },
  {
   "cell_type": "code",
   "execution_count": 356,
   "id": "d5f73669",
   "metadata": {},
   "outputs": [],
   "source": [
    "# Define feature names\n",
    "FEATURE_NAMES = ['Person ID', 'Gender', 'Age', 'Occupation', 'Sleep Duration', 'Quality of Sleep',\n",
    "                 'Physical Activity Level', 'Stress Level', 'BMI Category', 'Heart Rate',\n",
    "                 'Daily Steps', 'Sleep Disorder', 'BloodPressure_Upper_Value', 'BloodPressure_Lower_Value']"
   ]
  },
  {
   "cell_type": "code",
   "execution_count": 357,
   "id": "efc4f5c7",
   "metadata": {},
   "outputs": [],
   "source": [
    "df1 = df1.reindex(columns=FEATURE_NAMES)"
   ]
  },
  {
   "cell_type": "code",
   "execution_count": 358,
   "id": "0a4c237c",
   "metadata": {},
   "outputs": [],
   "source": [
    "# Encode categorical variables\n",
    "label_encoders = {}\n",
    "for col in ['Gender', 'Occupation', 'BMI Category', 'Sleep Disorder']:\n",
    "    le = LabelEncoder()\n",
    "    df[col] = le.fit_transform(df[col])\n",
    "    label_encoders[col] = le"
   ]
  },
  {
   "cell_type": "code",
   "execution_count": 359,
   "id": "882a1233",
   "metadata": {
    "execution": {
     "iopub.execute_input": "2023-07-08T15:03:30.434620Z",
     "iopub.status.busy": "2023-07-08T15:03:30.433648Z",
     "iopub.status.idle": "2023-07-08T15:03:30.442584Z",
     "shell.execute_reply": "2023-07-08T15:03:30.440903Z"
    },
    "papermill": {
     "duration": 0.042619,
     "end_time": "2023-07-08T15:03:30.445928",
     "exception": false,
     "start_time": "2023-07-08T15:03:30.403309",
     "status": "completed"
    },
    "tags": []
   },
   "outputs": [],
   "source": [
    "# Prepare the data\n",
    "X = df1.drop(['Person ID', 'Sleep Disorder'], axis=1)\n",
    "y = df1['Sleep Disorder']\n"
   ]
  },
  {
   "cell_type": "code",
   "execution_count": 360,
   "id": "3443a52b",
   "metadata": {},
   "outputs": [],
   "source": [
    "# feature_names = df1.columns.tolist()\n",
    "\n",
    "# # Extract the first row of the dataset\n",
    "# first_row = df1.iloc[0]\n",
    "\n",
    "# print(\"Feature Names:\", feature_names)\n",
    "# print(\"First Row:\", first_row)"
   ]
  },
  {
   "cell_type": "markdown",
   "id": "0cc5cdfc",
   "metadata": {
    "papermill": {
     "duration": 0.029437,
     "end_time": "2023-07-08T15:03:30.578935",
     "exception": false,
     "start_time": "2023-07-08T15:03:30.549498",
     "status": "completed"
    },
    "tags": []
   },
   "source": [
    "# Split the data into train and test sets"
   ]
  },
  {
   "cell_type": "code",
   "execution_count": 361,
   "id": "3a1a84f9",
   "metadata": {
    "execution": {
     "iopub.execute_input": "2023-07-08T15:03:30.648180Z",
     "iopub.status.busy": "2023-07-08T15:03:30.647194Z",
     "iopub.status.idle": "2023-07-08T15:03:30.656504Z",
     "shell.execute_reply": "2023-07-08T15:03:30.655362Z"
    },
    "papermill": {
     "duration": 0.049029,
     "end_time": "2023-07-08T15:03:30.660060",
     "exception": false,
     "start_time": "2023-07-08T15:03:30.611031",
     "status": "completed"
    },
    "tags": []
   },
   "outputs": [],
   "source": [
    "# Split the data into train and test sets\n",
    "X_train, X_test, y_train, y_test = train_test_split(X, y, test_size=0.2, random_state=2)"
   ]
  },
  {
   "cell_type": "markdown",
   "id": "9bc221f6",
   "metadata": {
    "papermill": {
     "duration": 0.028755,
     "end_time": "2023-07-08T15:03:30.716116",
     "exception": false,
     "start_time": "2023-07-08T15:03:30.687361",
     "status": "completed"
    },
    "tags": []
   },
   "source": [
    "# Create a pipeline"
   ]
  },
  {
   "cell_type": "code",
   "execution_count": 362,
   "id": "f008a547",
   "metadata": {
    "execution": {
     "iopub.execute_input": "2023-07-08T15:03:30.777845Z",
     "iopub.status.busy": "2023-07-08T15:03:30.776617Z",
     "iopub.status.idle": "2023-07-08T15:03:30.783282Z",
     "shell.execute_reply": "2023-07-08T15:03:30.781469Z"
    },
    "papermill": {
     "duration": 0.041444,
     "end_time": "2023-07-08T15:03:30.787070",
     "exception": false,
     "start_time": "2023-07-08T15:03:30.745626",
     "status": "completed"
    },
    "tags": []
   },
   "outputs": [],
   "source": [
    "# Create a pipeline with data preprocessing and classification model\n",
    "pipeline = Pipeline([\n",
    "    ('scaler', StandardScaler()),\n",
    "    ('clf', GradientBoostingClassifier())\n",
    "])"
   ]
  },
  {
   "cell_type": "code",
   "execution_count": 363,
   "id": "47e1fd3e",
   "metadata": {
    "execution": {
     "iopub.execute_input": "2023-07-08T15:03:30.847106Z",
     "iopub.status.busy": "2023-07-08T15:03:30.846048Z",
     "iopub.status.idle": "2023-07-08T15:03:30.857928Z",
     "shell.execute_reply": "2023-07-08T15:03:30.856205Z"
    },
    "papermill": {
     "duration": 0.046969,
     "end_time": "2023-07-08T15:03:30.862221",
     "exception": false,
     "start_time": "2023-07-08T15:03:30.815252",
     "status": "completed"
    },
    "tags": []
   },
   "outputs": [],
   "source": [
    "# Define parameter grids for hyperparameter tuning\n",
    "param_grid = [\n",
    "    {\n",
    "        'clf': [GradientBoostingClassifier()],\n",
    "        'clf__n_estimators': [100, 200, 300,400],\n",
    "        'clf__learning_rate': [0.01, 0.1, 1],\n",
    "    }\n",
    "]"
   ]
  },
  {
   "cell_type": "markdown",
   "id": "9f0dcc75",
   "metadata": {
    "papermill": {
     "duration": 0.029278,
     "end_time": "2023-07-08T15:03:30.920747",
     "exception": false,
     "start_time": "2023-07-08T15:03:30.891469",
     "status": "completed"
    },
    "tags": []
   },
   "source": [
    "# Perform grid search for hyperparameter tuning"
   ]
  },
  {
   "cell_type": "code",
   "execution_count": 364,
   "id": "f2fd1e73",
   "metadata": {
    "execution": {
     "iopub.execute_input": "2023-07-08T15:03:30.981418Z",
     "iopub.status.busy": "2023-07-08T15:03:30.980136Z",
     "iopub.status.idle": "2023-07-08T15:05:33.015038Z",
     "shell.execute_reply": "2023-07-08T15:05:33.013817Z"
    },
    "papermill": {
     "duration": 122.069051,
     "end_time": "2023-07-08T15:05:33.018354",
     "exception": false,
     "start_time": "2023-07-08T15:03:30.949303",
     "status": "completed"
    },
    "tags": []
   },
   "outputs": [
    {
     "data": {
      "text/plain": [
       "array([1, 1, 1, 1, 0, 1, 1, 1, 1, 1, 1, 1, 1, 1, 1, 0, 0, 0, 0, 0, 0, 0,\n",
       "       1, 1, 1, 1, 1, 1, 0, 1, 1, 1, 1, 1, 1, 0, 1, 1, 1, 1, 1, 1, 1, 1,\n",
       "       1, 1, 0, 1, 1, 0, 0, 1, 1, 1, 1, 1, 1, 0])"
      ]
     },
     "execution_count": 364,
     "metadata": {},
     "output_type": "execute_result"
    }
   ],
   "source": [
    "# Perform grid search for hyperparameter tuning\n",
    "grid_search = GridSearchCV(pipeline, param_grid, cv=5)\n",
    "grid_search.fit(X_train, y_train)\n",
    "\n",
    "# Get the best model\n",
    "best_model = grid_search.best_estimator_\n",
    "\n",
    "#Calculate predictions for each model\n",
    "models = [\n",
    "    ('Gradient Boosting', GradientBoostingClassifier())\n",
    "]\n",
    "\n",
    "predictions = {}\n",
    "for name, model in models:\n",
    "    pipeline = Pipeline([\n",
    "        ('scaler', StandardScaler()),\n",
    "        ('clf', model)\n",
    "    ])\n",
    "    pipeline.fit(X_train, y_train)\n",
    "    y_pred = pipeline.predict(X_test)\n",
    "    predictions[name] = y_pred\n",
    "\n",
    "y_pred"
   ]
  },
  {
   "cell_type": "code",
   "execution_count": 365,
   "id": "4a609b4f",
   "metadata": {},
   "outputs": [],
   "source": [
    "with open('model.pkl', 'wb') as file:\n",
    "    pickle.dump({'model': best_model, 'label_encoders': label_encoders}, file)"
   ]
  }
 ],
 "metadata": {
  "kernelspec": {
   "display_name": "Python 3",
   "language": "python",
   "name": "python3"
  },
  "language_info": {
   "codemirror_mode": {
    "name": "ipython",
    "version": 3
   },
   "file_extension": ".py",
   "mimetype": "text/x-python",
   "name": "python",
   "nbconvert_exporter": "python",
   "pygments_lexer": "ipython3",
   "version": "3.11.5"
  },
  "papermill": {
   "default_parameters": {},
   "duration": 155.097753,
   "end_time": "2023-07-08T15:05:34.930055",
   "environment_variables": {},
   "exception": null,
   "input_path": "__notebook__.ipynb",
   "output_path": "__notebook__.ipynb",
   "parameters": {},
   "start_time": "2023-07-08T15:02:59.832302",
   "version": "2.4.0"
  }
 },
 "nbformat": 4,
 "nbformat_minor": 5
}
